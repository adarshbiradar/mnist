{
  "nbformat": 4,
  "nbformat_minor": 0,
  "metadata": {
    "colab": {
      "name": "mnistcnn.ipynb",
      "provenance": []
    },
    "kernelspec": {
      "name": "python3",
      "display_name": "Python 3"
    },
    "accelerator": "GPU"
  },
  "cells": [
    {
      "cell_type": "code",
      "metadata": {
        "id": "_l_Iw06-Lp9t",
        "colab_type": "code",
        "colab": {}
      },
      "source": [
        "from __future__ import print_function\n",
        "import keras\n",
        "from keras.datasets import mnist\n",
        "from keras.models import Sequential\n",
        "from keras.layers import Dense,Flatten,Dropout,Conv2D,MaxPool2D\n",
        "from keras import backend as k"
      ],
      "execution_count": 0,
      "outputs": []
    },
    {
      "cell_type": "code",
      "metadata": {
        "id": "8Mab0rUXNkVA",
        "colab_type": "code",
        "colab": {}
      },
      "source": [
        "batch_size=128\n",
        "num_class=10\n",
        "epochs=12"
      ],
      "execution_count": 0,
      "outputs": []
    },
    {
      "cell_type": "code",
      "metadata": {
        "id": "NjQVLo98Nu27",
        "colab_type": "code",
        "colab": {
          "base_uri": "https://localhost:8080/",
          "height": 50
        },
        "outputId": "7d88a501-a7ba-4806-db95-023b434af6a6"
      },
      "source": [
        "img_rows,img_cols=28,28\n",
        "(x_train,y_train),(x_test,y_test)=mnist.load_data()"
      ],
      "execution_count": 3,
      "outputs": [
        {
          "output_type": "stream",
          "text": [
            "Downloading data from https://s3.amazonaws.com/img-datasets/mnist.npz\n",
            "11493376/11490434 [==============================] - 1s 0us/step\n"
          ],
          "name": "stdout"
        }
      ]
    },
    {
      "cell_type": "code",
      "metadata": {
        "id": "gayB9iTWOF4O",
        "colab_type": "code",
        "colab": {}
      },
      "source": [
        "if k.image_data_format() == 'channels_first':\n",
        "    x_train = x_train.reshape(x_train.shape[0], 1, img_rows, img_cols)\n",
        "    x_test = x_test.reshape(x_test.shape[0], 1, img_rows, img_cols)\n",
        "    input_shape = (1, img_rows, img_cols)\n",
        "else:\n",
        "    x_train = x_train.reshape(x_train.shape[0], img_rows, img_cols, 1)\n",
        "    x_test = x_test.reshape(x_test.shape[0], img_rows, img_cols, 1)\n",
        "    input_shape = (img_rows, img_cols, 1)"
      ],
      "execution_count": 0,
      "outputs": []
    },
    {
      "cell_type": "code",
      "metadata": {
        "id": "3RgEzSKEOUzV",
        "colab_type": "code",
        "colab": {
          "base_uri": "https://localhost:8080/",
          "height": 67
        },
        "outputId": "23d39c4c-0d40-4ba9-caa2-c0616b2d985b"
      },
      "source": [
        "x_train=x_train.astype('float32')\n",
        "x_test=x_test.astype('float32')\n",
        "x_train=x_train/255\n",
        "x_test=x_test/255\n",
        "print(\"X_train Shape:\",x_train.shape)\n",
        "print(\"train samples=\",x_train.shape[0])\n",
        "print('test samples=',x_test.shape[0])"
      ],
      "execution_count": 6,
      "outputs": [
        {
          "output_type": "stream",
          "text": [
            "X_train Shape: (60000, 28, 28, 1)\n",
            "train samples= 60000\n",
            "test samples= 10000\n"
          ],
          "name": "stdout"
        }
      ]
    },
    {
      "cell_type": "code",
      "metadata": {
        "id": "0Zw8ae5iPX62",
        "colab_type": "code",
        "colab": {}
      },
      "source": [
        "y_train = keras.utils.to_categorical(y_train, num_class)\n",
        "y_test = keras.utils.to_categorical(y_test, num_class)"
      ],
      "execution_count": 0,
      "outputs": []
    },
    {
      "cell_type": "code",
      "metadata": {
        "id": "EoB0z2MiPhM3",
        "colab_type": "code",
        "colab": {
          "base_uri": "https://localhost:8080/",
          "height": 50
        },
        "outputId": "05146fd4-6bfa-448f-a659-66ce5cfaf365"
      },
      "source": [
        "print(y_train.shape)\n",
        "print(y_test.shape)"
      ],
      "execution_count": 10,
      "outputs": [
        {
          "output_type": "stream",
          "text": [
            "(60000, 10)\n",
            "(10000, 10)\n"
          ],
          "name": "stdout"
        }
      ]
    },
    {
      "cell_type": "code",
      "metadata": {
        "id": "uO9uXLW1PtX1",
        "colab_type": "code",
        "colab": {}
      },
      "source": [
        "model=Sequential()\n",
        "model.add(Conv2D(32,kernel_size=(3,3),activation='relu',input_shape=input_shape))\n",
        "model.add(Conv2D(64,kernel_size=(3,3),activation='relu'))\n",
        "model.add(MaxPool2D(pool_size=(2,2)))\n",
        "model.add(Dropout(0.25))\n",
        "model.add(Flatten())\n",
        "model.add(Dense(128,activation='relu'))\n",
        "model.add(Dropout(0.5))\n",
        "model.add(Dense(num_class,activation='softmax'))\n",
        "model.compile(loss=keras.losses.categorical_crossentropy,optimizer=keras.optimizers.Adadelta(),metrics=['accuracy'])"
      ],
      "execution_count": 0,
      "outputs": []
    },
    {
      "cell_type": "code",
      "metadata": {
        "id": "BZdH0_mhRwVO",
        "colab_type": "code",
        "colab": {
          "base_uri": "https://localhost:8080/",
          "height": 490
        },
        "outputId": "6a41f602-2a4f-4452-a916-40a749db1a58"
      },
      "source": [
        "history=model.fit(x=x_train,y=y_train,batch_size=batch_size,epochs=epochs,validation_data=(x_test,y_test))\n",
        "score=model.evaluate(x_test,y_test,verbose=0)\n",
        "print('Test loss:',score[0])\n",
        "print('Test accuracy:',score[1])"
      ],
      "execution_count": 20,
      "outputs": [
        {
          "output_type": "stream",
          "text": [
            "Train on 60000 samples, validate on 10000 samples\n",
            "Epoch 1/12\n",
            "60000/60000 [==============================] - 5s 77us/step - loss: 0.0169 - acc: 0.9943 - val_loss: 0.0285 - val_acc: 0.9922\n",
            "Epoch 2/12\n",
            "60000/60000 [==============================] - 5s 76us/step - loss: 0.0171 - acc: 0.9945 - val_loss: 0.0279 - val_acc: 0.9923\n",
            "Epoch 3/12\n",
            "60000/60000 [==============================] - 5s 77us/step - loss: 0.0174 - acc: 0.9946 - val_loss: 0.0291 - val_acc: 0.9916\n",
            "Epoch 4/12\n",
            "60000/60000 [==============================] - 5s 76us/step - loss: 0.0159 - acc: 0.9948 - val_loss: 0.0300 - val_acc: 0.9919\n",
            "Epoch 5/12\n",
            "60000/60000 [==============================] - 5s 77us/step - loss: 0.0148 - acc: 0.9950 - val_loss: 0.0290 - val_acc: 0.9916\n",
            "Epoch 6/12\n",
            "60000/60000 [==============================] - 5s 77us/step - loss: 0.0150 - acc: 0.9953 - val_loss: 0.0344 - val_acc: 0.9917\n",
            "Epoch 7/12\n",
            "60000/60000 [==============================] - 5s 76us/step - loss: 0.0161 - acc: 0.9946 - val_loss: 0.0303 - val_acc: 0.9916\n",
            "Epoch 8/12\n",
            "60000/60000 [==============================] - 5s 76us/step - loss: 0.0148 - acc: 0.9957 - val_loss: 0.0289 - val_acc: 0.9927\n",
            "Epoch 9/12\n",
            "60000/60000 [==============================] - 5s 77us/step - loss: 0.0134 - acc: 0.9958 - val_loss: 0.0353 - val_acc: 0.9920\n",
            "Epoch 10/12\n",
            "60000/60000 [==============================] - 5s 76us/step - loss: 0.0154 - acc: 0.9952 - val_loss: 0.0265 - val_acc: 0.9928\n",
            "Epoch 11/12\n",
            "60000/60000 [==============================] - 5s 77us/step - loss: 0.0138 - acc: 0.9956 - val_loss: 0.0302 - val_acc: 0.9916\n",
            "Epoch 12/12\n",
            "60000/60000 [==============================] - 5s 76us/step - loss: 0.0158 - acc: 0.9952 - val_loss: 0.0288 - val_acc: 0.9919\n",
            "Test loss: 0.028796753009248822\n",
            "Test accuracy: 0.9919\n"
          ],
          "name": "stdout"
        }
      ]
    },
    {
      "cell_type": "code",
      "metadata": {
        "id": "lCblINvlSs7o",
        "colab_type": "code",
        "colab": {}
      },
      "source": [
        "import numpy as np\n",
        "import matplotlib.pyplot as plt\n",
        "%matplotlib inline\n",
        "import time\n",
        "def plt_dynamic(x, vy, ty, ax, colors=['b']):\n",
        "    ax.plot(x, vy, 'b', label=\"Validation Loss\")\n",
        "    ax.plot(x, ty, 'r', label=\"Train Loss\")\n",
        "    plt.legend()\n",
        "    plt.grid()\n",
        "    fig.canvas.draw()"
      ],
      "execution_count": 0,
      "outputs": []
    },
    {
      "cell_type": "code",
      "metadata": {
        "id": "R5TPZrUVThFP",
        "colab_type": "code",
        "colab": {
          "base_uri": "https://localhost:8080/",
          "height": 317
        },
        "outputId": "a638ac6a-94da-471c-91ba-8f2c675f60f8"
      },
      "source": [
        "score=model.evaluate(x_test,y_test,verbose=0)\n",
        "x = list(range(1,13))\n",
        "print('Test score:', score[0]) \n",
        "print('Test accuracy:', score[1])\n",
        "fig,ax = plt.subplots(1,1)\n",
        "ax.set_xlabel('epoch') ; ax.set_ylabel('Categorical Crossentropy Loss')\n",
        "vy = history.history['val_loss']\n",
        "ty = history.history['loss']\n",
        "plt_dynamic(x, vy, ty, ax)"
      ],
      "execution_count": 22,
      "outputs": [
        {
          "output_type": "stream",
          "text": [
            "Test score: 0.028796753009248822\n",
            "Test accuracy: 0.9919\n"
          ],
          "name": "stdout"
        },
        {
          "output_type": "display_data",
          "data": {
            "image/png": "[encoded data removed]",
            "text/plain": [
              "<Figure size 432x288 with 1 Axes>"
            ]
          },
          "metadata": {
            "tags": []
          }
        }
      ]
    },
    {
      "cell_type": "code",
      "metadata": {
        "id": "k9h_OOxiTtmE",
        "colab_type": "code",
        "colab": {}
      },
      "source": [
        ""
      ],
      "execution_count": 0,
      "outputs": []
    }
  ]
}